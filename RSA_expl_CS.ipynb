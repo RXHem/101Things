{
  "nbformat": 4,
  "nbformat_minor": 0,
  "metadata": {
    "colab": {
      "provenance": [],
      "authorship_tag": "ABX9TyONsAWhp6YNtG0HWGdAFI7I",
      "include_colab_link": true
    },
    "kernelspec": {
      "name": "python3",
      "display_name": "Python 3"
    },
    "language_info": {
      "name": "python"
    }
  },
  "cells": [
    {
      "cell_type": "markdown",
      "metadata": {
        "id": "view-in-github",
        "colab_type": "text"
      },
      "source": [
        "<a href=\"https://colab.research.google.com/github/RXHem/101Things/blob/master/RSA_expl_CS.ipynb\" target=\"_parent\"><img src=\"https://colab.research.google.com/assets/colab-badge.svg\" alt=\"Open In Colab\"/></a>"
      ]
    },
    {
      "cell_type": "code",
      "execution_count": null,
      "metadata": {
        "colab": {
          "base_uri": "https://localhost:8080/"
        },
        "id": "HzFic3CwvSQB",
        "outputId": "92fde5d7-2d63-4e2d-9e0e-d29d012e7713"
      },
      "outputs": [
        {
          "output_type": "stream",
          "name": "stdout",
          "text": [
            "Step 1: Choose two prime numbers p and q.\n",
            "p = 7\n",
            "q = 23\n",
            "\n",
            "Step 2: Calculate n = p * q\n",
            "n = 7 * 23 = 161\n",
            "\n",
            "Step 3: Calculate Euler's Totient Function φ(n) = (p - 1) * (q - 1)\n",
            "φ(n) = (7 - 1) * (23 - 1) = 132\n",
            "\n",
            "Step 4: Choose e such that 1 < e < φ(n) and gcd(e, φ(n)) = 1\n",
            "e = 5\n",
            "\n",
            "Step 5: Calculate d, the modular inverse of e\n",
            "d = 53 (since (e * d) % φ(n) = 1)\n",
            "\n",
            "Public Key: (e, n) = (5, 161)\n",
            "Private Key: (d, n) = (53, 161)\n",
            "\n",
            "Original Message: HELLO CLASS\n",
            "\n",
            "Encrypting message: HELLO CLASS\n",
            "Using public key: (e, n) = (5, 161)\n",
            "Encrypted message: [151, 69, 132, 132, 88, 100, 37, 132, 11, 153, 153]\n",
            "\n",
            "Decrypting message: [151, 69, 132, 132, 88, 100, 37, 132, 11, 153, 153]\n",
            "Using private key: (d, n) = (53, 161)\n",
            "Decrypted characters: ['H', 'E', 'L', 'L', 'O', ' ', 'C', 'L', 'A', 'S', 'S']\n",
            "Decrypted message: HELLO CLASS\n",
            "\n",
            "Decrypted Message: HELLO CLASS\n"
          ]
        }
      ],
      "source": [
        "from sympy import mod_inverse\n",
        "\n",
        "# Function to calculate gcd\n",
        "def gcd(a, b):\n",
        "    while b != 0:\n",
        "        a, b = b, a % b\n",
        "    return a\n",
        "\n",
        "# Function to generate RSA keys and show the process\n",
        "def generate_keys(p, q):\n",
        "    print(f\"Step 1: Choose two prime numbers p and q.\")\n",
        "    print(f\"p = {p}\")\n",
        "    print(f\"q = {q}\")\n",
        "\n",
        "    n = p * q\n",
        "    print(f\"\\nStep 2: Calculate n = p * q\")\n",
        "    print(f\"n = {p} * {q} = {n}\")\n",
        "\n",
        "    phi = (p - 1) * (q - 1)\n",
        "    print(f\"\\nStep 3: Calculate Euler's Totient Function φ(n) = (p - 1) * (q - 1)\")\n",
        "    print(f\"φ(n) = ({p} - 1) * ({q} - 1) = {phi}\")\n",
        "\n",
        "    # Choose e such that 1 < e < φ(n) and gcd(e, φ(n)) = 1\n",
        "    e = 3\n",
        "    while e < phi:\n",
        "        if gcd(e, phi) == 1:\n",
        "            break\n",
        "        e += 1\n",
        "    print(f\"\\nStep 4: Choose e such that 1 < e < φ(n) and gcd(e, φ(n)) = 1\")\n",
        "    print(f\"e = {e}\")\n",
        "\n",
        "    # Calculate d, the modular inverse of e\n",
        "    d = mod_inverse(e, phi)\n",
        "    print(f\"\\nStep 5: Calculate d, the modular inverse of e\")\n",
        "    print(f\"d = {d} (since (e * d) % φ(n) = 1)\")\n",
        "\n",
        "    print(f\"\\nPublic Key: (e, n) = ({e}, {n})\")\n",
        "    print(f\"Private Key: (d, n) = ({d}, {n})\")\n",
        "\n",
        "    return ((e, n), (d, n))\n",
        "\n",
        "# Function to encrypt a message\n",
        "def encrypt(message, public_key):\n",
        "    e, n = public_key\n",
        "    print(f\"\\nEncrypting message: {message}\")\n",
        "    print(f\"Using public key: (e, n) = ({e}, {n})\")\n",
        "    ciphertext = [pow(ord(char), e, n) for char in message]\n",
        "    print(f\"Encrypted message: {ciphertext}\")\n",
        "    return ciphertext\n",
        "\n",
        "# Function to decrypt a message\n",
        "def decrypt(ciphertext, private_key):\n",
        "    d, n = private_key\n",
        "    print(f\"\\nDecrypting message: {ciphertext}\")\n",
        "    print(f\"Using private key: (d, n) = ({d}, {n})\")\n",
        "    decrypted_chars = [chr(pow(char, d, n)) for char in ciphertext]\n",
        "    print(f\"Decrypted characters: {decrypted_chars}\")\n",
        "    plaintext = ''.join(decrypted_chars)\n",
        "    print(f\"Decrypted message: {plaintext}\")\n",
        "    return plaintext\n",
        "\n",
        "# Example usage\n",
        "p = 7\n",
        "q = 23\n",
        "\n",
        "public_key, private_key = generate_keys(p, q)\n",
        "\n",
        "message = \"HELLO CLASS\"\n",
        "print(\"\\nOriginal Message:\", message)\n",
        "\n",
        "encrypted_message = encrypt(message, public_key)\n",
        "\n",
        "# Pass the encrypted_message directly to the decrypt function\n",
        "decrypted_message = decrypt(encrypted_message, private_key)\n",
        "print(\"\\nDecrypted Message:\", decrypted_message)\n"
      ]
    }
  ]
}